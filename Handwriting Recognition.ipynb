{
 "cells": [
  {
   "cell_type": "markdown",
   "id": "706ec52a",
   "metadata": {},
   "source": [
    "# Handwriting Recognition"
   ]
  },
  {
   "cell_type": "markdown",
   "id": "02901f78",
   "metadata": {},
   "source": [
    "## Author: Amritpal Singh"
   ]
  },
  {
   "cell_type": "markdown",
   "id": "f79171fc",
   "metadata": {},
   "source": [
    "Here's a program of a handwritten digit recognition program using a deep neural network in Python. This program uses the popular deep learning library TensorFlow along with the Keras API for building and training the neural network."
   ]
  },
  {
   "cell_type": "markdown",
   "id": "ce94c0cf",
   "metadata": {},
   "source": [
    "#### Import libraries and dataset from Scikit-Learn"
   ]
  },
  {
   "cell_type": "code",
   "execution_count": null,
   "id": "cb350c5a",
   "metadata": {},
   "outputs": [],
   "source": [
    "import matplotlib.pyplot as plt\n",
    "%matplotlib inline\n",
    "from sklearn.datasets import load_digits\n",
    "\n",
    "digits = load_digits()"
   ]
  },
  {
   "cell_type": "markdown",
   "id": "0b80d25b",
   "metadata": {},
   "source": [
    " Analyze a sample image"
   ]
  },
  {
   "cell_type": "code",
   "execution_count": 4,
   "id": "7dc1c7af",
   "metadata": {},
   "outputs": [
    {
     "data": {
      "text/plain": [
       "<Figure size 640x480 with 0 Axes>"
      ]
     },
     "metadata": {},
     "output_type": "display_data"
    },
    {
     "data": {
      "image/png": "[encoded data removed]",
      "text/plain": [
       "<Figure size 480x480 with 1 Axes>"
      ]
     },
     "metadata": {},
     "output_type": "display_data"
    }
   ],
   "source": [
    "import pylab as pl \n",
    "pl.gray() \n",
    "pl.matshow(digits.images[0]) \n",
    "pl.show() "
   ]
  },
  {
   "cell_type": "markdown",
   "id": "28ee4c9e",
   "metadata": {},
   "source": [
    "#### Analyze image pixels"
   ]
  },
  {
   "cell_type": "markdown",
   "id": "9c6119b5",
   "metadata": {},
   "source": [
    "Each element represents the pixel of our greyscale image. The value ranges from 0 to 255 for an 8 bit pixel."
   ]
  },
  {
   "cell_type": "code",
   "execution_count": 5,
   "id": "20444017",
   "metadata": {},
   "outputs": [
    {
     "data": {
      "text/plain": [
       "array([[ 0.,  0.,  5., 13.,  9.,  1.,  0.,  0.],\n",
       "       [ 0.,  0., 13., 15., 10., 15.,  5.,  0.],\n",
       "       [ 0.,  3., 15.,  2.,  0., 11.,  8.,  0.],\n",
       "       [ 0.,  4., 12.,  0.,  0.,  8.,  8.,  0.],\n",
       "       [ 0.,  5.,  8.,  0.,  0.,  9.,  8.,  0.],\n",
       "       [ 0.,  4., 11.,  0.,  1., 12.,  7.,  0.],\n",
       "       [ 0.,  2., 14.,  5., 10., 12.,  0.,  0.],\n",
       "       [ 0.,  0.,  6., 13., 10.,  0.,  0.,  0.]])"
      ]
     },
     "execution_count": 5,
     "metadata": {},
     "output_type": "execute_result"
    }
   ],
   "source": [
    "digits.images[0]"
   ]
  },
  {
   "cell_type": "markdown",
   "id": "214d17ba",
   "metadata": {},
   "source": [
    "#### Visualize first 15 images"
   ]
  },
  {
   "cell_type": "code",
   "execution_count": 6,
   "id": "efff7aae",
   "metadata": {},
   "outputs": [
    {
     "data": {
      "image/png": "[encoded data removed]",
      "text/plain": [
       "<Figure size 500x500 with 15 Axes>"
      ]
     },
     "metadata": {},
     "output_type": "display_data"
    }
   ],
   "source": [
    "images_and_labels = list(zip(digits.images, digits.target))\n",
    "plt.figure(figsize=(5,5))\n",
    "for index, (image, label) in enumerate(images_and_labels[:15]):\n",
    "    plt.subplot(3, 5, index + 1)\n",
    "    plt.axis('off')\n",
    "    plt.imshow(image, cmap=plt.cm.gray_r, interpolation='nearest')\n",
    "    plt.title('%i' % label)"
   ]
  },
  {
   "cell_type": "code",
   "execution_count": 12,
   "id": "39885ff8",
   "metadata": {},
   "outputs": [
    {
     "name": "stdout",
     "output_type": "stream",
     "text": [
      "Random Tree Classifier:\n",
      "\n",
      "Score\t0.935326842837274\n"
     ]
    }
   ],
   "source": [
    "import random\n",
    "from sklearn import ensemble\n",
    "\n",
    "#Define variables\n",
    "n_samples = len(digits.images)\n",
    "x = digits.images.reshape((n_samples, -1))\n",
    "y = digits.target\n",
    "\n",
    "#Create random indices \n",
    "sample_index = random.sample(range(len(x)), int(len(x)/5)) #20-80\n",
    "valid_index=[i for i in range(len(x)) if i not in sample_index]\n",
    "\n",
    "#Sample and validation images\n",
    "sample_images=[x[i] for i in sample_index]\n",
    "valid_images=[x[i] for i in valid_index]\n",
    "\n",
    "#Sample and validation targets\n",
    "sample_target=[y[i] for i in sample_index]\n",
    "valid_target=[y[i] for i in valid_index]\n",
    "\n",
    "#Using the Random Forest Classifier\n",
    "classifier = ensemble.RandomForestClassifier()\n",
    "\n",
    "#Fit model with sample data\n",
    "classifier.fit(sample_images, sample_target)\n",
    "\n",
    "#Attempt to predict validation data\n",
    "score=classifier.score(valid_images, valid_target)\n",
    "print('Random Tree Classifier:\\n')\n",
    "print('Score\\t'+str(score))"
   ]
  },
  {
   "cell_type": "code",
   "execution_count": 14,
   "id": "922286bd",
   "metadata": {},
   "outputs": [
    {
     "data": {
      "text/plain": [
       "<Figure size 640x480 with 0 Axes>"
      ]
     },
     "metadata": {},
     "output_type": "display_data"
    },
    {
     "data": {
      "image/png": "[encoded data removed]",
      "text/plain": [
       "<Figure size 480x480 with 1 Axes>"
      ]
     },
     "metadata": {},
     "output_type": "display_data"
    },
    {
     "data": {
      "text/plain": [
       "array([0])"
      ]
     },
     "execution_count": 14,
     "metadata": {},
     "output_type": "execute_result"
    }
   ],
   "source": [
    "i=150\n",
    "\n",
    "pl.gray() \n",
    "pl.matshow(digits.images[i]) \n",
    "pl.show() \n",
    "classifier.predict(x[i].reshape(1, -1))\n",
    "\n"
   ]
  }
 ],
 "metadata": {
  "kernelspec": {
   "display_name": "Python 3 (ipykernel)",
   "language": "python",
   "name": "python3"
  },
  "language_info": {
   "codemirror_mode": {
    "name": "ipython",
    "version": 3
   },
   "file_extension": ".py",
   "mimetype": "text/x-python",
   "name": "python",
   "nbconvert_exporter": "python",
   "pygments_lexer": "ipython3",
   "version": "3.9.7"
  }
 },
 "nbformat": 4,
 "nbformat_minor": 5
}
