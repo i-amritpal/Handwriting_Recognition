{
 "cells": [
  {
   "cell_type": "markdown",
   "id": "0405b31b",
   "metadata": {},
   "source": [
    "# Handwriting Recognition"
   ]
  },
  {
   "cell_type": "markdown",
   "id": "3912d871",
   "metadata": {},
   "source": [
    "### Author: Amritpal Singh"
   ]
  },
  {
   "cell_type": "markdown",
   "id": "f0b33450",
   "metadata": {},
   "source": [
    "To add a visual representation of the predicted label to the handwritten digit recognition program, you can use the matplotlib library to display the test image along with the true label and the predicted label."
   ]
  },
  {
   "cell_type": "markdown",
   "id": "a72eb9b5",
   "metadata": {},
   "source": [
    "And to add a visual representation of the predicted label to the handwritten digit recognition program, we can use the matplotlib library to display the test image along with the true label and the predicted label."
   ]
  },
  {
   "cell_type": "code",
   "execution_count": null,
   "id": "be699476",
   "metadata": {},
   "outputs": [],
   "source": [
    "import numpy as np\n",
    "from tensorflow import keras\n",
    "from tensorflow.keras.datasets import mnist\n",
    "from tensorflow.keras.models import Sequential\n",
    "from tensorflow.keras.layers import Dense, Flatten\n"
   ]
  },
  {
   "cell_type": "code",
   "execution_count": 5,
   "id": "e9620c88",
   "metadata": {},
   "outputs": [
    {
     "name": "stdout",
     "output_type": "stream",
     "text": [
      "Epoch 1/5\n",
      "1500/1500 [==============================] - 7s 4ms/step - loss: 0.2847 - accuracy: 0.9192 - val_loss: 0.1513 - val_accuracy: 0.9568\n",
      "Epoch 2/5\n",
      "1500/1500 [==============================] - 6s 4ms/step - loss: 0.1275 - accuracy: 0.9628 - val_loss: 0.1145 - val_accuracy: 0.9679\n",
      "Epoch 3/5\n",
      "1500/1500 [==============================] - 6s 4ms/step - loss: 0.0866 - accuracy: 0.9746 - val_loss: 0.0960 - val_accuracy: 0.9703\n",
      "Epoch 4/5\n",
      "1500/1500 [==============================] - 6s 4ms/step - loss: 0.0640 - accuracy: 0.9808 - val_loss: 0.1017 - val_accuracy: 0.9704\n",
      "Epoch 5/5\n",
      "1500/1500 [==============================] - 5s 4ms/step - loss: 0.0489 - accuracy: 0.9852 - val_loss: 0.0919 - val_accuracy: 0.9743\n",
      "313/313 [==============================] - 1s 2ms/step - loss: 0.0811 - accuracy: 0.9755\n",
      "Test loss: 0.0811\n",
      "Test accuracy: 0.9755\n"
     ]
    }
   ],
   "source": [
    "\n",
    "# Load the MNIST dataset\n",
    "(x_train, y_train), (x_test, y_test) = mnist.load_data()\n",
    "\n",
    "# Preprocess the data\n",
    "x_train = x_train / 255.0\n",
    "x_test = x_test / 255.0\n",
    "\n",
    "# Convert labels to one-hot encoding\n",
    "y_train = keras.utils.to_categorical(y_train, num_classes=10)\n",
    "y_test = keras.utils.to_categorical(y_test, num_classes=10)\n",
    "\n",
    "# Build the neural network model\n",
    "model = Sequential()\n",
    "model.add(Flatten(input_shape=(28, 28)))\n",
    "model.add(Dense(128, activation='relu'))\n",
    "model.add(Dense(10, activation='softmax'))\n",
    "\n",
    "# Compile the model\n",
    "model.compile(optimizer='adam', loss='categorical_crossentropy', metrics=['accuracy'])\n",
    "\n",
    "# Train the model\n",
    "model.fit(x_train, y_train, epochs=5, batch_size=32, validation_split=0.2)\n",
    "\n",
    "# Evaluate the model\n",
    "loss, accuracy = model.evaluate(x_test, y_test)\n",
    "print(f'Test loss: {loss:.4f}')\n",
    "print(f'Test accuracy: {accuracy:.4f}')\n"
   ]
  },
  {
   "cell_type": "code",
   "execution_count": 6,
   "id": "809cd4e9",
   "metadata": {},
   "outputs": [],
   "source": [
    "import numpy as np\n",
    "from tensorflow import keras\n",
    "from tensorflow.keras.datasets import mnist\n",
    "from tensorflow.keras.models import Sequential\n",
    "from tensorflow.keras.layers import Dense, Flatten\n",
    "import matplotlib.pyplot as plt\n"
   ]
  },
  {
   "cell_type": "code",
   "execution_count": 7,
   "id": "f640dd03",
   "metadata": {},
   "outputs": [
    {
     "name": "stdout",
     "output_type": "stream",
     "text": [
      "Epoch 1/5\n",
      "1500/1500 [==============================] - 10s 5ms/step - loss: 0.2911 - accuracy: 0.9177 - val_loss: 0.1564 - val_accuracy: 0.9565\n",
      "Epoch 2/5\n",
      "1500/1500 [==============================] - 7s 4ms/step - loss: 0.1287 - accuracy: 0.9619 - val_loss: 0.1106 - val_accuracy: 0.9673\n",
      "Epoch 3/5\n",
      "1500/1500 [==============================] - 7s 5ms/step - loss: 0.0870 - accuracy: 0.9741 - val_loss: 0.0995 - val_accuracy: 0.9689\n",
      "Epoch 4/5\n",
      "1500/1500 [==============================] - 7s 5ms/step - loss: 0.0655 - accuracy: 0.9808 - val_loss: 0.0991 - val_accuracy: 0.9681\n",
      "Epoch 5/5\n",
      "1500/1500 [==============================] - 7s 5ms/step - loss: 0.0512 - accuracy: 0.9848 - val_loss: 0.0837 - val_accuracy: 0.9754\n",
      "313/313 [==============================] - 1s 3ms/step - loss: 0.0821 - accuracy: 0.9767\n",
      "Test loss: 0.0821\n",
      "Test accuracy: 0.9767\n",
      "1/1 [==============================] - 0s 199ms/step\n"
     ]
    },
    {
     "data": {
      "image/png": "[encoded data removed]",
      "text/plain": [
       "<Figure size 640x480 with 1 Axes>"
      ]
     },
     "metadata": {},
     "output_type": "display_data"
    }
   ],
   "source": [
    "\n",
    "# Load the MNIST dataset\n",
    "(x_train, y_train), (x_test, y_test) = mnist.load_data()\n",
    "\n",
    "# Preprocess the data\n",
    "x_train = x_train / 255.0\n",
    "x_test = x_test / 255.0\n",
    "\n",
    "# Convert labels to one-hot encoding\n",
    "y_train = keras.utils.to_categorical(y_train, num_classes=10)\n",
    "y_test = keras.utils.to_categorical(y_test, num_classes=10)\n",
    "\n",
    "# Build the neural network model\n",
    "model = Sequential()\n",
    "model.add(Flatten(input_shape=(28, 28)))\n",
    "model.add(Dense(128, activation='relu'))\n",
    "model.add(Dense(10, activation='softmax'))\n",
    "\n",
    "# Compile the model\n",
    "model.compile(optimizer='adam', loss='categorical_crossentropy', metrics=['accuracy'])\n",
    "\n",
    "# Train the model\n",
    "model.fit(x_train, y_train, epochs=5, batch_size=32, validation_split=0.2)\n",
    "\n",
    "# Evaluate the model\n",
    "loss, accuracy = model.evaluate(x_test, y_test)\n",
    "print(f'Test loss: {loss:.4f}')\n",
    "print(f'Test accuracy: {accuracy:.4f}')\n",
    "\n",
    "# Predict on a test image\n",
    "test_image = x_test[0]\n",
    "test_label = np.argmax(y_test[0])\n",
    "\n",
    "predicted_label = np.argmax(model.predict(test_image.reshape(1, 28, 28)))\n",
    "\n",
    "# Display the test image and labels\n",
    "plt.imshow(test_image, cmap='gray')\n",
    "plt.title(f'True Label: {test_label}\\nPredicted Label: {predicted_label}')\n",
    "plt.axis('off')\n",
    "plt.show()\n"
   ]
  }
 ],
 "metadata": {
  "kernelspec": {
   "display_name": "Python 3 (ipykernel)",
   "language": "python",
   "name": "python3"
  },
  "language_info": {
   "codemirror_mode": {
    "name": "ipython",
    "version": 3
   },
   "file_extension": ".py",
   "mimetype": "text/x-python",
   "name": "python",
   "nbconvert_exporter": "python",
   "pygments_lexer": "ipython3",
   "version": "3.9.7"
  }
 },
 "nbformat": 4,
 "nbformat_minor": 5
}
